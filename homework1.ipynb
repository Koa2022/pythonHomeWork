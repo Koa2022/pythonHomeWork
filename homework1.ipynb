{
 "cells": [
  {
   "cell_type": "markdown",
   "id": "3cd72a20-2e7a-4c13-8a1a-d823114f6968",
   "metadata": {},
   "source": [
    "### ใบงานที่ 1 การส่งการบ้านผ่าน Git"
   ]
  },
  {
   "cell_type": "raw",
   "id": "ef8ec06c-c5de-49c1-83e9-67636c4f7c9e",
   "metadata": {},
   "source": [
    "นาย อนุชา กัญญา 6512732110"
   ]
  },
  {
   "cell_type": "code",
   "execution_count": 1,
   "id": "3943f07a-2aa1-4685-bd80-ed5c133cbf4a",
   "metadata": {},
   "outputs": [
    {
     "name": "stdout",
     "output_type": "stream",
     "text": [
      "Hello, World\n"
     ]
    }
   ],
   "source": [
    "print(\"Hello, World\")"
   ]
  },
  {
   "cell_type": "code",
   "execution_count": null,
   "id": "8c809fa8-0014-4969-9d60-62f334117851",
   "metadata": {},
   "outputs": [],
   "source": []
  }
 ],
 "metadata": {
  "kernelspec": {
   "display_name": "Python 3 (ipykernel)",
   "language": "python",
   "name": "python3"
  },
  "language_info": {
   "codemirror_mode": {
    "name": "ipython",
    "version": 3
   },
   "file_extension": ".py",
   "mimetype": "text/x-python",
   "name": "python",
   "nbconvert_exporter": "python",
   "pygments_lexer": "ipython3",
   "version": "3.9.13"
  }
 },
 "nbformat": 4,
 "nbformat_minor": 5
}
